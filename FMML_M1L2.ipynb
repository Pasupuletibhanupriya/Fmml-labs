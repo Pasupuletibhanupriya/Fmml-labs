{
  "cells": [
    {
      "cell_type": "markdown",
      "metadata": {
        "id": "view-in-github",
        "colab_type": "text"
      },
      "source": [
        "<a href=\"https://colab.research.google.com/github/Pasupuletibhanupriya/Fmml-labs/blob/main/FMML_M1L2.ipynb\" target=\"_parent\"><img src=\"https://colab.research.google.com/assets/colab-badge.svg\" alt=\"Open In Colab\"/></a>"
      ]
    },
    {
      "cell_type": "markdown",
      "metadata": {
        "id": "3Eu9VZbF01eq"
      },
      "source": [
        "# Machine Learning terms and metrics\n",
        "\n",
        "FMML Module 1, Lab 2\n",
        "\n",
        "In this lab, we will show a part of the ML pipeline by using the California Housing dataset. There are 20640 samples, each with 8 attributes like income of the block, age of the houses per district etc. The task is to predict the cost of the houses per district. We will use the scikit-learn library to load the data and perform some basic data preprocessing and model training. We will also show how to evaluate the model using some common metrics, split the data into training and testing sets, and use cross-validation to get a better estimate of the model's performance."
      ]
    },
    {
      "cell_type": "code",
      "execution_count": 1,
      "metadata": {
        "id": "8qBvyEem0vLi"
      },
      "outputs": [],
      "source": [
        "import numpy as np\n",
        "from sklearn import datasets\n",
        "import matplotlib.pyplot as plt\n",
        "\n",
        "rng = np.random.default_rng(seed=42)"
      ]
    },
    {
      "cell_type": "code",
      "execution_count": 2,
      "metadata": {
        "colab": {
          "base_uri": "https://localhost:8080/"
        },
        "id": "8LpqjN991GGJ",
        "outputId": "a742abb4-a07d-460f-bc68-20abcfb15bcd"
      },
      "outputs": [
        {
          "output_type": "stream",
          "name": "stdout",
          "text": [
            ".. _california_housing_dataset:\n",
            "\n",
            "California Housing dataset\n",
            "--------------------------\n",
            "\n",
            "**Data Set Characteristics:**\n",
            "\n",
            "    :Number of Instances: 20640\n",
            "\n",
            "    :Number of Attributes: 8 numeric, predictive attributes and the target\n",
            "\n",
            "    :Attribute Information:\n",
            "        - MedInc        median income in block group\n",
            "        - HouseAge      median house age in block group\n",
            "        - AveRooms      average number of rooms per household\n",
            "        - AveBedrms     average number of bedrooms per household\n",
            "        - Population    block group population\n",
            "        - AveOccup      average number of household members\n",
            "        - Latitude      block group latitude\n",
            "        - Longitude     block group longitude\n",
            "\n",
            "    :Missing Attribute Values: None\n",
            "\n",
            "This dataset was obtained from the StatLib repository.\n",
            "https://www.dcc.fc.up.pt/~ltorgo/Regression/cal_housing.html\n",
            "\n",
            "The target variable is the median house value for California districts,\n",
            "expressed in hundreds of thousands of dollars ($100,000).\n",
            "\n",
            "This dataset was derived from the 1990 U.S. census, using one row per census\n",
            "block group. A block group is the smallest geographical unit for which the U.S.\n",
            "Census Bureau publishes sample data (a block group typically has a population\n",
            "of 600 to 3,000 people).\n",
            "\n",
            "A household is a group of people residing within a home. Since the average\n",
            "number of rooms and bedrooms in this dataset are provided per household, these\n",
            "columns may take surprisingly large values for block groups with few households\n",
            "and many empty houses, such as vacation resorts.\n",
            "\n",
            "It can be downloaded/loaded using the\n",
            ":func:`sklearn.datasets.fetch_california_housing` function.\n",
            "\n",
            ".. topic:: References\n",
            "\n",
            "    - Pace, R. Kelley and Ronald Barry, Sparse Spatial Autoregressions,\n",
            "      Statistics and Probability Letters, 33 (1997) 291-297\n",
            "\n"
          ]
        }
      ],
      "source": [
        "dataset = datasets.fetch_california_housing()\n",
        "# Dataset description\n",
        "print(dataset.DESCR)"
      ]
    },
    {
      "cell_type": "markdown",
      "metadata": {
        "id": "PCe1VNftevgE"
      },
      "source": [
        "Given below are the list of target values. These correspond to the house value derived considering all the 8 input features and are continuous values. We should use regression models to predict these values but we will start with a simple classification model for the sake of simplicity. We need to just round off the values to the nearest integer and use a classification model to predict the house value."
      ]
    },
    {
      "cell_type": "code",
      "execution_count": 3,
      "metadata": {
        "colab": {
          "base_uri": "https://localhost:8080/"
        },
        "id": "F8K0ggBOevgE",
        "outputId": "67a3faac-8f07-4226-fb0d-3288029e4eb3"
      },
      "outputs": [
        {
          "output_type": "stream",
          "name": "stdout",
          "text": [
            "Orignal target values: [4.526 3.585 3.521 ... 0.923 0.847 0.894]\n",
            "Target values after conversion: [4 3 3 ... 0 0 0]\n",
            "Input variables shape: (20640, 8)\n",
            "Output variables shape: (20640,)\n"
          ]
        }
      ],
      "source": [
        "print(\"Orignal target values:\", dataset.target)\n",
        "\n",
        "dataset.target = dataset.target.astype(int)\n",
        "\n",
        "print(\"Target values after conversion:\", dataset.target)\n",
        "print(\"Input variables shape:\", dataset.data.shape)\n",
        "print(\"Output variables shape:\", dataset.target.shape)"
      ]
    },
    {
      "cell_type": "markdown",
      "metadata": {
        "id": "iNx4174W5xRg"
      },
      "source": [
        "The simplest model to use for classification is the K-Nearest Neighbors model. We will use this model to predict the house value with a K value of 1. We will also use the accuracy metric to evaluate the model."
      ]
    },
    {
      "cell_type": "code",
      "execution_count": 4,
      "metadata": {
        "id": "07zpydQj1hIQ"
      },
      "outputs": [],
      "source": [
        "def NN1(traindata, trainlabel, query):\n",
        "    \"\"\"\n",
        "    This function takes in the training data, training labels and a query point\n",
        "    and returns the predicted label for the query point using the nearest neighbour algorithm\n",
        "\n",
        "    traindata: numpy array of shape (n,d) where n is the number of samples and d is the number of features\n",
        "    trainlabel: numpy array of shape (n,) where n is the number of samples\n",
        "    query: numpy array of shape (d,) where d is the number of features\n",
        "\n",
        "    returns: the predicted label for the query point which is the label of the training data which is closest to the query point\n",
        "    \"\"\"\n",
        "    diff = (\n",
        "        traindata - query\n",
        "    )  # find the difference between features. Numpy automatically takes care of the size here\n",
        "    sq = diff * diff  # square the differences\n",
        "    dist = sq.sum(1)  # add up the squares\n",
        "    label = trainlabel[np.argmin(dist)]\n",
        "    return label\n",
        "\n",
        "\n",
        "def NN(traindata, trainlabel, testdata):\n",
        "    \"\"\"\n",
        "    This function takes in the training data, training labels and test data\n",
        "    and returns the predicted labels for the test data using the nearest neighbour algorithm\n",
        "\n",
        "    traindata: numpy array of shape (n,d) where n is the number of samples and d is the number of features\n",
        "    trainlabel: numpy array of shape (n,) where n is the number of samples\n",
        "    testdata: numpy array of shape (m,d) where m is the number of test samples and d is the number of features\n",
        "\n",
        "    returns: the predicted labels for the test data which is the label of the training data which is closest to each test point\n",
        "    \"\"\"\n",
        "    predlabel = np.array([NN1(traindata, trainlabel, i) for i in testdata])\n",
        "    return predlabel"
      ]
    },
    {
      "cell_type": "markdown",
      "metadata": {
        "id": "03JktkfIGaje"
      },
      "source": [
        "We will also define a 'random classifier', which randomly allots labels to each sample"
      ]
    },
    {
      "cell_type": "code",
      "execution_count": 5,
      "metadata": {
        "id": "fogWAtjyGhAH"
      },
      "outputs": [],
      "source": [
        "def RandomClassifier(traindata, trainlabel, testdata):\n",
        "    \"\"\"\n",
        "    This function takes in the training data, training labels and test data\n",
        "    and returns the predicted labels for the test data using the random classifier algorithm\n",
        "\n",
        "    In reality, we don't need these arguments but we are passing them to keep the function signature consistent with other classifiers\n",
        "\n",
        "    traindata: numpy array of shape (n,d) where n is the number of samples and d is the number of features\n",
        "    trainlabel: numpy array of shape (n,) where n is the number of samples\n",
        "    testdata: numpy array of shape (m,d) where m is the number of test samples and d is the number of features\n",
        "\n",
        "    returns: the predicted labels for the test data which is a random label from the training data\n",
        "    \"\"\"\n",
        "\n",
        "    classes = np.unique(trainlabel)\n",
        "    rints = rng.integers(low=0, high=len(classes), size=len(testdata))\n",
        "    predlabel = classes[rints]\n",
        "    return predlabel"
      ]
    },
    {
      "cell_type": "markdown",
      "metadata": {
        "id": "1Hjf1KHs7fU5"
      },
      "source": [
        "We need a metric to evaluate the performance of the model. Let us define a metric 'Accuracy' to see how good our learning algorithm is. Accuracy is the ratio of the number of correctly classified samples to the total number of samples. The higher the accuracy, the better the algorithm. We will use the accuracy metric to evaluate and compate the performance of the K-Nearest Neighbors model and the random classifier."
      ]
    },
    {
      "cell_type": "code",
      "execution_count": 6,
      "metadata": {
        "id": "ouuCqWU07bz-"
      },
      "outputs": [],
      "source": [
        "def Accuracy(gtlabel, predlabel):\n",
        "    \"\"\"\n",
        "    This function takes in the ground-truth labels and predicted labels\n",
        "    and returns the accuracy of the classifier\n",
        "\n",
        "    gtlabel: numpy array of shape (n,) where n is the number of samples\n",
        "    predlabel: numpy array of shape (n,) where n is the number of samples\n",
        "\n",
        "    returns: the accuracy of the classifier which is the number of correct predictions divided by the total number of predictions\n",
        "    \"\"\"\n",
        "    assert len(gtlabel) == len(\n",
        "        predlabel\n",
        "    ), \"Length of the ground-truth labels and predicted labels should be the same\"\n",
        "    correct = (\n",
        "        gtlabel == predlabel\n",
        "    ).sum()  # count the number of times the groundtruth label is equal to the predicted label.\n",
        "    return correct / len(gtlabel)"
      ]
    },
    {
      "cell_type": "markdown",
      "metadata": {
        "id": "4vJFwBFa9Klw"
      },
      "source": [
        "Let us make a function to split the dataset with the desired probability. We will use this function to split the dataset into training and testing sets. We will use the training set to train the model and the testing set to evaluate the model."
      ]
    },
    {
      "cell_type": "code",
      "execution_count": 7,
      "metadata": {
        "id": "Ko0VzpSM2Tdi"
      },
      "outputs": [],
      "source": [
        "def split(data, label, percent):\n",
        "    # generate a random number for each sample\n",
        "    rnd = rng.random(len(label))\n",
        "    split1 = rnd < percent\n",
        "    split2 = rnd >= percent\n",
        "\n",
        "    split1data = data[split1, :]\n",
        "    split1label = label[split1]\n",
        "    split2data = data[split2, :]\n",
        "    split2label = label[split2]\n",
        "    return split1data, split1label, split2data, split2label"
      ]
    },
    {
      "cell_type": "markdown",
      "metadata": {
        "id": "AcK3LEAJ_LGC"
      },
      "source": [
        "We will reserve 20% of our dataset as the test set. We will not change this portion throughout our experiments"
      ]
    },
    {
      "cell_type": "code",
      "execution_count": 8,
      "metadata": {
        "colab": {
          "base_uri": "https://localhost:8080/"
        },
        "id": "bBZkHBLJ1iU-",
        "outputId": "f8bc3ac7-1c3f-432b-a301-677aa0d4615e"
      },
      "outputs": [
        {
          "output_type": "stream",
          "name": "stdout",
          "text": [
            "Number of test samples: 4144\n",
            "Number of train samples: 16496\n",
            "Percent of test data: 20.07751937984496 %\n"
          ]
        }
      ],
      "source": [
        "testdata, testlabel, alltraindata, alltrainlabel = split(\n",
        "    dataset.data, dataset.target, 20 / 100\n",
        ")\n",
        "print(\"Number of test samples:\", len(testlabel))\n",
        "print(\"Number of train samples:\", len(alltrainlabel))\n",
        "print(\"Percent of test data:\", len(testlabel) * 100 / len(dataset.target), \"%\")"
      ]
    },
    {
      "cell_type": "markdown",
      "metadata": {
        "id": "a6Ss0Z6IAGNV"
      },
      "source": [
        "## Experiments with splits\n",
        "\n",
        "Let us reserve some of our train data as a validation set"
      ]
    },
    {
      "cell_type": "code",
      "execution_count": 9,
      "metadata": {
        "id": "WFew2iry_7W7"
      },
      "outputs": [],
      "source": [
        "traindata, trainlabel, valdata, vallabel = split(\n",
        "    alltraindata, alltrainlabel, 75 / 100)"
      ]
    },
    {
      "cell_type": "markdown",
      "metadata": {
        "id": "60hiu4clFN1i"
      },
      "source": [
        "What is the accuracy of our classifiers on the train dataset?"
      ]
    },
    {
      "cell_type": "code",
      "execution_count": 10,
      "metadata": {
        "colab": {
          "base_uri": "https://localhost:8080/"
        },
        "id": "DBlZDTHUFTZx",
        "outputId": "196ae9c7-52fd-46f0-d79d-c42283e24a07"
      },
      "outputs": [
        {
          "output_type": "stream",
          "name": "stdout",
          "text": [
            "Training accuracy using nearest neighbour algorithm: 100.0 %\n",
            "Training accuracy using random classifier:  16.4375808538163 %\n"
          ]
        }
      ],
      "source": [
        "trainpred = NN(traindata, trainlabel, traindata)\n",
        "trainAccuracy = Accuracy(trainlabel, trainpred)\n",
        "print(\"Training accuracy using nearest neighbour algorithm:\", trainAccuracy*100, \"%\")\n",
        "\n",
        "trainpred = RandomClassifier(traindata, trainlabel, traindata)\n",
        "trainAccuracy = Accuracy(trainlabel, trainpred)\n",
        "print(\"Training accuracy using random classifier: \", trainAccuracy*100, \"%\")"
      ]
    },
    {
      "cell_type": "markdown",
      "metadata": {
        "id": "7h08-9gJDtSy"
      },
      "source": [
        "For nearest neighbour, the train accuracy is always 1. The accuracy of the random classifier is close to 1/(number of classes) which is 0.1666 in our case. This is because the random classifier randomly assigns a label to each sample and the probability of assigning the correct label is 1/(number of classes). Let us predict the labels for our validation set and get the accuracy. This accuracy is a good estimate of the accuracy of our model on unseen data."
      ]
    },
    {
      "cell_type": "code",
      "execution_count": 11,
      "metadata": {
        "colab": {
          "base_uri": "https://localhost:8080/"
        },
        "id": "4h7bXoW_2H3v",
        "outputId": "ec6386a0-a172-4929-be16-96fd05927288"
      },
      "outputs": [
        {
          "output_type": "stream",
          "name": "stdout",
          "text": [
            "Validation accuracy using nearest neighbour algorithm: 34.10852713178294 %\n",
            "Validation accuracy using random classifier: 16.884689922480618 %\n"
          ]
        }
      ],
      "source": [
        "valpred = NN(traindata, trainlabel, valdata)\n",
        "valAccuracy = Accuracy(vallabel, valpred)\n",
        "print(\"Validation accuracy using nearest neighbour algorithm:\", valAccuracy*100, \"%\")\n",
        "\n",
        "\n",
        "valpred = RandomClassifier(traindata, trainlabel, valdata)\n",
        "valAccuracy = Accuracy(vallabel, valpred)\n",
        "print(\"Validation accuracy using random classifier:\", valAccuracy*100, \"%\")"
      ]
    },
    {
      "cell_type": "markdown",
      "metadata": {
        "id": "py9bLguFEjfg"
      },
      "source": [
        "Validation accuracy of nearest neighbour is considerably less than its train accuracy while the validation accuracy of random classifier is the same. However, the validation accuracy of nearest neighbour is twice that of the random classifier. Now let us try another random split and check the validation accuracy. We will see that the validation accuracy changes with the split. This is because the validation set is small and the accuracy is highly dependent on the samples in the validation set. We can get a better estimate of the accuracy by using cross-validation."
      ]
    },
    {
      "cell_type": "code",
      "execution_count": 12,
      "metadata": {
        "colab": {
          "base_uri": "https://localhost:8080/"
        },
        "id": "ujm3cyYzEntE",
        "outputId": "48b31d76-7629-48d3-d1cc-8c66fd4f36e3"
      },
      "outputs": [
        {
          "output_type": "stream",
          "name": "stdout",
          "text": [
            "Validation accuracy using nearest neighbour algorithm: 34.048257372654156 %\n"
          ]
        }
      ],
      "source": [
        "traindata, trainlabel, valdata, vallabel = split(\n",
        "    alltraindata, alltrainlabel, 75 / 100)\n",
        "valpred = NN(traindata, trainlabel, valdata)\n",
        "valAccuracy = Accuracy(vallabel, valpred)\n",
        "print(\"Validation accuracy using nearest neighbour algorithm:\", valAccuracy*100, \"%\")"
      ]
    },
    {
      "cell_type": "markdown",
      "metadata": {
        "id": "oSOx7U83EKie"
      },
      "source": [
        "You can run the above cell multiple times to try with different random splits.\n",
        "We notice that the accuracy is different for each run, but close together.\n",
        "\n",
        "Now let us compare it with the accuracy we get on the test dataset."
      ]
    },
    {
      "cell_type": "code",
      "execution_count": 13,
      "metadata": {
        "colab": {
          "base_uri": "https://localhost:8080/"
        },
        "id": "PNEZ5ToYBEDW",
        "outputId": "9eb74b0a-153f-453c-dde6-01cdef836e61"
      },
      "outputs": [
        {
          "output_type": "stream",
          "name": "stdout",
          "text": [
            "Test accuracy: 34.91795366795367 %\n"
          ]
        }
      ],
      "source": [
        "testpred = NN(alltraindata, alltrainlabel, testdata)\n",
        "testAccuracy = Accuracy(testlabel, testpred)\n",
        "\n",
        "print(\"Test accuracy:\", testAccuracy*100, \"%\")"
      ]
    },
    {
      "cell_type": "markdown",
      "metadata": {
        "id": "w3dGD531K3gH"
      },
      "source": [
        "### Try it out for yourself and answer:\n",
        "1. How is the accuracy of the validation set affected if we increase the percentage of validation set? What happens when we reduce it?\n",
        "Answer1. The accuracy of the validation set can be influenced by changing the percentage of the data allocated to it. Here's how it typically works:\n",
        "\n",
        "### Increasing the Percentage of the Validation Set:\n",
        "- **More Data for Validation**: When you allocate a higher percentage of the data to the validation set, the model's performance evaluation can become more reliable because it is tested on a more comprehensive sample. This can lead to a more accurate estimate of how well the model generalizes to unseen data.\n",
        "- **Less Data for Training**: However, increasing the validation set size reduces the amount of data available for training. With less training data, the model may not learn as effectively, potentially leading to poorer performance. If the model becomes undertrained, the validation accuracy could decrease.\n",
        "  \n",
        "### Reducing the Percentage of the Validation Set:\n",
        "- **Less Data for Validation**: A smaller validation set might lead to an unstable or less reliable estimation of the model's accuracy. The smaller the validation set, the more likely it is that random variations in the data could affect the accuracy score, leading to over- or underestimation of the model's true performance.\n",
        "- **More Data for Training**: On the other hand, reducing the validation set size increases the data available for training. More training data usually leads to better learning, which can improve the model’s overall performance. However, if the validation set is too small, the accuracy might not reflect the model’s true generalization ability.\n",
        "\n",
        "### Key Considerations:\n",
        "- **Balance**: There is a trade-off between the amount of data used for training and validation. Ideally, you want enough data in both sets to ensure that the model trains effectively and that the validation accuracy is a reliable indicator of performance.\n",
        "- **Model Complexity**: The impact of changing the validation set size might be more pronounced for complex models, which require more data to learn effectively.\n",
        "\n",
        "In practice, it is common to use around 10-20% of the dataset for validation, but the ideal split can vary depending on the specific problem, dataset size, and model complexity.\n",
        "\n",
        "2. How does the size of the train and validation set affect how well we can predict the accuracy on the test set using the validation set?\n",
        "Answer2:-The size of the training and validation sets plays a crucial role in predicting the accuracy and generalization ability of a machine learning model. Here's how each affects the predictability of accuracy:\n",
        "\n",
        "### 1. **Training Set Size**:\n",
        "   - **Larger Training Set**:\n",
        "     - **Better Model Learning**: A larger training set provides the model with more examples to learn from, which generally leads to better learning and improved performance. The model can capture more patterns, reduce overfitting, and generalize better to new data.\n",
        "     - **Improved Accuracy**: With more data to learn from, the model is likely to perform better not only on the training set but also on unseen data, leading to a higher and more reliable prediction of accuracy.\n",
        "   - **Smaller Training Set**:\n",
        "     - **Limited Learning**: A smaller training set may not provide enough examples for the model to learn effectively, which can lead to underfitting. The model might not capture the underlying patterns of the data, leading to lower accuracy.\n",
        "     - **Inaccurate Prediction of Generalization**: With limited data, the model might not generalize well to new data, and the accuracy predicted during training might not reflect real-world performance.\n",
        "\n",
        "### 2. **Validation Set Size**:\n",
        "   - **Larger Validation Set**:\n",
        "     - **More Reliable Accuracy Estimate**: A larger validation set means the model's performance is evaluated on a more representative and varied sample of the data, leading to a more reliable estimate of accuracy. It reduces the variance in the accuracy metric, providing a better prediction of how well the model will perform on unseen data.\n",
        "     - **Possible Trade-off with Training Data**: However, if increasing the validation set size significantly reduces the training set size, it could lead to poorer model learning and affect accuracy.\n",
        "   - **Smaller Validation Set**:\n",
        "     - **Higher Variance in Accuracy Estimate**: A smaller validation set may lead to an inaccurate or less reliable estimate of the model's accuracy. The smaller sample might not represent the data distribution well, causing the accuracy to fluctuate more due to random noise or outliers.\n",
        "     - **Potential Overestimation**: A smaller validation set might result in an overly optimistic accuracy estimate, especially if it does not capture the full variability of the data. This can lead to overconfidence in the model's performance when applied to new, unseen data.\n",
        "\n",
        "### Key Takeaways:\n",
        "- **Balance is Crucial**: There needs to be a balance between the training and validation set sizes. Too small of a training set might limit model learning, while too small of a validation set might lead to an unreliable accuracy estimate.\n",
        "- **Dataset Size Matters**: For small datasets, it's particularly important to carefully choose the split because the trade-offs are more pronounced. For large datasets, the impact of the split size may be less critical, but it's still important to ensure that the validation set is representative.\n",
        "- **Cross-Validation**: In cases where dataset size is limited, techniques like cross-validation can help in obtaining a more reliable estimate of accuracy by using different portions of the data for training and validation across multiple iterations. This helps in better predicting the model's generalization performance.\n",
        "3. A common and effective split is to reserve **20% of your dataset for validation** and use the remaining 80% for training. This split often provides a good balance between having enough data to train the model while also having enough data to validate its performance.\n",
        "\n",
        "However, the exact percentage can depend on the size and nature of your dataset:\n",
        "\n",
        "- **Smaller datasets**: You might reserve a smaller percentage (e.g., 10%) for validation because you need more data for training.\n",
        "- **Larger datasets**: With a large dataset, even a smaller fraction like 10-15% might still provide a substantial validation set.\n",
        "- **High variance in data**: If your data is very diverse or has high variance, you might reserve more (e.g., 25-30%) to ensure your validation set is representative.\n",
        "\n",
        "The key is ensuring that the validation set is representative of the data the model will encounter in real-world use, without starving the model of training data.\n",
        "\n",
        "Answer for both nearest neighbour and random classifier. You can note down the values for your experiments and plot a graph using  <a href=https://matplotlib.org/stable/gallery/lines_bars_and_markers/step_demo.html#sphx-glr-gallery-lines-bars-and-markers-step-demo-py>plt.plot<href>. Check also for extreme values for splits, like 99.9% or 0.1%"
      ]
    },
    {
      "cell_type": "markdown",
      "metadata": {
        "id": "M9zvdYY6evgI"
      },
      "source": [
        "> Exercise: Try to implement a 3 nearest neighbour classifier and compare the accuracy of the 1 nearest neighbour classifier and the 3 nearest neighbour classifier on the test dataset. You can use the KNeighborsClassifier class from the scikit-learn library to implement the K-Nearest Neighbors model. You can set the number of neighbors using the n_neighbors parameter. You can also use the accuracy_score function from the scikit-learn library to calculate the accuracy of the model.\n",
        "Answer:-To implement and compare the accuracy of a 1-Nearest Neighbor (1-NN) classifier and a 3-Nearest Neighbor (3-NN) classifier using the `KNeighborsClassifier` class from scikit-learn, follow these steps:\n",
        "\n",
        "### 1. Import Necessary Libraries\n",
        "```python\n",
        "import numpy as np\n",
        "from sklearn.datasets import load_iris\n",
        "from sklearn.model_selection import train_test_split\n",
        "from sklearn.neighbors import KNeighborsClassifier\n",
        "from sklearn.metrics import accuracy_score\n",
        "```\n",
        "\n",
        "### 2. Load and Split the Dataset\n",
        "For this example, we'll use the Iris dataset.\n",
        "```python\n",
        "# Load the dataset\n",
        "iris = load_iris()\n",
        "X = iris.data\n",
        "y = iris.target\n",
        "\n",
        "# Split the dataset into training and testing sets\n",
        "X_train, X_test, y_train, y_test = train_test_split(X, y, test_size=0.3, random_state=42)\n",
        "```\n",
        "\n",
        "### 3. Train and Test the 1-Nearest Neighbor Classifier\n",
        "```python\n",
        "# Initialize the 1-NN classifier\n",
        "knn_1 = KNeighborsClassifier(n_neighbors=1)\n",
        "\n",
        "# Train the classifier\n",
        "knn_1.fit(X_train, y_train)\n",
        "\n",
        "# Predict the labels on the test set\n",
        "y_pred_1 = knn_1.predict(X_test)\n",
        "\n",
        "# Calculate the accuracy of the 1-NN classifier\n",
        "accuracy_1 = accuracy_score(y_test, y_pred_1)\n",
        "print(f\"1-NN Classifier Accuracy: {accuracy_1:.2f}\")\n",
        "```\n",
        "\n",
        "### 4. Train and Test the 3-Nearest Neighbor Classifier\n",
        "```python\n",
        "# Initialize the 3-NN classifier\n",
        "knn_3 = KNeighborsClassifier(n_neighbors=3)\n",
        "\n",
        "# Train the classifier\n",
        "knn_3.fit(X_train, y_train)\n",
        "\n",
        "# Predict the labels on the test set\n",
        "y_pred_3 = knn_3.predict(X_test)\n",
        "\n",
        "# Calculate the accuracy of the 3-NN classifier\n",
        "accuracy_3 = accuracy_score(y_test, y_pred_3)\n",
        "print(f\"3-NN Classifier Accuracy: {accuracy_3:.2f}\")\n",
        "```\n",
        "\n",
        "### 5. Compare the Results\n",
        "Now that you've trained both classifiers and calculated their accuracies, you can compare them to see which one performs better on the test dataset.\n",
        "\n",
        "### Complete Code:\n",
        "```python\n",
        "import numpy as np\n",
        "from sklearn.datasets import load_iris\n",
        "from sklearn.model_selection import train_test_split\n",
        "from sklearn.neighbors import KNeighborsClassifier\n",
        "from sklearn.metrics import accuracy_score\n",
        "\n",
        "# Load the dataset\n",
        "iris = load_iris()\n",
        "X = iris.data\n",
        "y = iris.target\n",
        "\n",
        "# Split the dataset into training and testing sets\n",
        "X_train, X_test, y_train, y_test = train_test_split(X, y, test_size=0.3, random_state=42)\n",
        "\n",
        "# 1-NN Classifier\n",
        "knn_1 = KNeighborsClassifier(n_neighbors=1)\n",
        "knn_1.fit(X_train, y_train)\n",
        "y_pred_1 = knn_1.predict(X_test)\n",
        "accuracy_1 = accuracy_score(y_test, y_pred_1)\n",
        "print(f\"1-NN Classifier Accuracy: {accuracy_1:.2f}\")\n",
        "\n",
        "# 3-NN Classifier\n",
        "knn_3 = KNeighborsClassifier(n_neighbors=3)\n",
        "knn_3.fit(X_train, y_train)\n",
        "y_pred_3 = knn_3.predict(X_test)\n",
        "accuracy_3 = accuracy_score(y_test, y_pred_3)\n",
        "print(f\"3-NN Classifier Accuracy: {accuracy_3:.2f}\")\n",
        "```\n",
        "\n",
        "### Explanation:\n",
        "- **KNeighborsClassifier**: This class implements the k-nearest neighbors algorithm, where `n_neighbors` specifies the number of neighbors to consider.\n",
        "- **accuracy_score**: This function calculates the accuracy of the classifier by comparing the predicted labels with the true labels.\n",
        "\n",
        "### Expected Outcome:\n",
        "Running the code will give you the accuracy of both the 1-NN and 3-NN classifiers, allowing you to compare their performances. Typically, 3-NN might perform better due to considering multiple neighbors, which can reduce the effect of noise in the data. However, this depends on the dataset and the underlying distribution."
      ]
    },
    {
      "cell_type": "markdown",
      "metadata": {
        "id": "PnYvkAZLQY7h"
      },
      "source": [
        "## Multiple Splits\n",
        "\n",
        "One way to get more accurate estimates for the test accuracy is by using <b>cross-validation</b>. Here, we will try a simple version, where we do multiple train/val splits and take the average of validation accuracies as the test accuracy estimation. Here is a function for doing this. Note that this function will take a long time to execute. You can reduce the number of splits to make it faster."
      ]
    },
    {
      "cell_type": "code",
      "execution_count": 14,
      "metadata": {
        "id": "E4nGCUQXBTzo"
      },
      "outputs": [],
      "source": [
        "def AverageAccuracy(alldata, alllabel, splitpercent, iterations, classifier=NN):\n",
        "    \"\"\"\n",
        "    This function takes in the data, labels, split percentage, number of iterations and classifier function\n",
        "    and returns the average accuracy of the classifier\n",
        "\n",
        "    alldata: numpy array of shape (n,d) where n is the number of samples and d is the number of features\n",
        "    alllabel: numpy array of shape (n,) where n is the number of samples\n",
        "    splitpercent: float which is the percentage of data to be used for training\n",
        "    iterations: int which is the number of iterations to run the classifier\n",
        "    classifier: function which is the classifier function to be used\n",
        "\n",
        "    returns: the average accuracy of the classifier\n",
        "    \"\"\"\n",
        "    accuracy = 0\n",
        "    for ii in range(iterations):\n",
        "        traindata, trainlabel, valdata, vallabel = split(\n",
        "            alldata, alllabel, splitpercent\n",
        "        )\n",
        "        valpred = classifier(traindata, trainlabel, valdata)\n",
        "        accuracy += Accuracy(vallabel, valpred)\n",
        "    return accuracy / iterations  # average of all accuracies"
      ]
    },
    {
      "cell_type": "code",
      "execution_count": 15,
      "metadata": {
        "colab": {
          "base_uri": "https://localhost:8080/"
        },
        "id": "H3qtNar7Bbik",
        "outputId": "911417cf-725a-4b83-8c42-ebcf5d3e377e"
      },
      "outputs": [
        {
          "output_type": "stream",
          "name": "stdout",
          "text": [
            "Average validation accuracy: 33.58463539517022 %\n",
            "Test accuracy: 34.91795366795367 %\n"
          ]
        }
      ],
      "source": [
        "avg_acc = AverageAccuracy(alltraindata, alltrainlabel, 75 / 100, 10, classifier=NN)\n",
        "print(\"Average validation accuracy:\", avg_acc*100, \"%\")\n",
        "testpred = NN(alltraindata, alltrainlabel, testdata)\n",
        "\n",
        "print(\"Test accuracy:\", Accuracy(testlabel, testpred)*100, \"%\")"
      ]
    },
    {
      "cell_type": "markdown",
      "metadata": {
        "id": "33GIn4x5VH-d"
      },
      "source": [
        "This is a very simple way of doing cross-validation. There are many well-known algorithms for cross-validation, like k-fold cross-validation, leave-one-out etc. This will be covered in detail in a later module. For more information about cross-validation, check <a href=https://en.wikipedia.org/wiki/Cross-validation_(statistics)>Cross-validatioin (Wikipedia)</a>\n",
        "\n",
        "### Questions\n",
        "1. Does averaging the validation accuracy across multiple splits give more consistent results?\n",
        "Answer:-Yes, averaging validation accuracy across multiple splits, such as in cross-validation, generally provides more consistent and reliable results. Here's why:\n",
        "\n",
        "1. **Reduces Variability**: Single splits can lead to results that are dependent on the particular division of data, which might not fully represent the entire dataset's distribution. By averaging over multiple splits, you reduce the impact of any one particular split and get a more stable estimate of model performance.\n",
        "\n",
        "2. **Better Generalization Estimate**: Averaging across multiple splits helps in getting a better estimate of the model's ability to generalize to unseen data. This is because the model is evaluated on different subsets of the data, ensuring that the evaluation isn't biased by any specific subset.\n",
        "\n",
        "3. **Mitigates Overfitting**: If you rely on a single validation split, there's a higher risk of overfitting to that specific split. Multiple splits ensure that the model's performance is assessed in varied scenarios, helping to identify overfitting more effectively.\n",
        "\n",
        "In summary, averaging validation accuracy across multiple splits is a common practice to achieve more consistent and generalizable results.\n",
        "2. Does it give more accurate estimate of test accuracy?\n",
        "Answer:-It seems like your question is missing some context. Could you clarify what \"it\" refers to? Are you asking about a specific method, model, or tool for estimating test accuracy? Providing more details will help me give you a more accurate answer.\n",
        "3. What is the effect of the number of iterations on the estimate? Do we get a better estimate with higher iterations?\n",
        "Answer:-The effect of the number of iterations on an estimate is closely related to the concept of convergence in iterative methods or the Law of Large Numbers in statistical sampling.\n",
        "\n",
        "### Iterative Methods\n",
        "In numerical algorithms, such as those used to solve equations or optimize functions, the number of iterations typically affects the accuracy of the estimate.\n",
        "\n",
        "- **Few Iterations:** With a small number of iterations, the estimate is likely to be less accurate, as the method hasn't fully converged to the true solution.\n",
        "- **More Iterations:** As the number of iterations increases, the estimate generally becomes more accurate, assuming the method is converging. However, after a certain point, additional iterations may provide diminishing returns, especially if the method is slow to converge or if it has already reached a sufficient level of precision.\n",
        "\n",
        "### Statistical Sampling (e.g., Monte Carlo Simulations)\n",
        "In the context of statistical methods or Monte Carlo simulations, the number of iterations (or samples) also influences the quality of the estimate.\n",
        "\n",
        "- **Few Iterations/Samples:** With a smaller number of samples, the estimate may be highly variable and less reliable because it’s based on limited information.\n",
        "- **More Iterations/Samples:** As the number of iterations increases, the estimate tends to become more stable and closer to the true value, as more information is being averaged out. This aligns with the Law of Large Numbers, which states that as the number of trials increases, the sample mean will converge to the expected value.\n",
        "\n",
        "### Key Takeaway\n",
        "Yes, typically, a higher number of iterations leads to a better estimate. However, the improvement in accuracy may diminish after a certain point, depending on the problem. In practice, you often need to balance between computational cost and the desired level of accuracy.\n",
        "4. Consider the results you got for the previous questions. Can we deal with a very small train dataset or validation dataset by increasing the iterations?\n",
        "Answer:-When dealing with a very small training or validation dataset, simply increasing the number of iterations (or epochs) may not be sufficient to improve the model's performance. Here's why:\n",
        "\n",
        "### 1. **Overfitting Risk**:\n",
        "   - With a small dataset, the model is likely to overfit quickly. Overfitting occurs when the model learns the noise and details in the training data rather than the underlying pattern, leading to poor generalization to new, unseen data.\n",
        "   - Increasing the number of iterations can exacerbate this issue, as the model will continue to learn the specifics of the limited data, worsening overfitting.\n",
        "\n",
        "### 2. **Lack of Diversity**:\n",
        "   - A small dataset might not represent the diversity of the data distribution well. Even with more iterations, the model may not learn generalized patterns because the training data is too limited in scope.\n",
        "   - More iterations on a small dataset won't introduce new information; the model will just repeatedly see the same limited examples, which doesn't improve its ability to generalize.\n",
        "\n",
        "### 3. **Validation Set Issues**:\n",
        "   - A small validation set might not provide a reliable estimate of the model's performance. The model's accuracy could vary significantly with slight changes in the validation data due to the small sample size.\n",
        "   - This makes it hard to gauge whether additional iterations are actually improving the model's performance or just overfitting to the training data.\n",
        "\n",
        "### 4. **Possible Solutions**:\n",
        "   - **Data Augmentation**: For image or text data, techniques like data augmentation can help by artificially increasing the size of the training dataset through transformations (e.g., rotations, scaling, or synonym replacement). This can help the model generalize better.\n",
        "   - **Transfer Learning**: Using a pre-trained model and fine-tuning it on the small dataset can be effective. The pre-trained model already has learned general features, so it needs less data to adapt to the specific task.\n",
        "   - **Regularization**: Techniques like dropout, L2 regularization, or early stopping can help reduce the risk of overfitting, even with more iterations.\n",
        "   - **Cross-Validation**: Using k-fold cross-validation allows better use of a small dataset by splitting it into multiple training/validation sets, providing a more robust estimate of model performance.\n",
        "\n",
        "In summary, while increasing iterations might seem like a straightforward solution, it can lead to overfitting and won't address the core issues of having too little data. Applying techniques like data augmentation, transfer learning, or regularization are more effective strategies in such scenarios."
      ]
    },
    {
      "cell_type": "markdown",
      "metadata": {
        "id": "z-SBxy1qevgJ"
      },
      "source": [
        "> Exercise: How does the accuracy of the 3 nearest neighbour classifier change with the number of splits? How is it affected by the split size? Compare the results with the 1 nearest neighbour classifier.\n",
        "Answer:-The exercise you’re referring to seems to involve evaluating the accuracy of k-Nearest Neighbors (k-NN) classifiers, particularly comparing the 3-nearest neighbors (3-NN) classifier with the 1-nearest neighbor (1-NN) classifier. Here's a breakdown of how you can approach this:\n",
        "\n",
        "### 1. **Understanding the Key Concepts:**\n",
        "   - **k-Nearest Neighbors (k-NN):** A non-parametric method used for classification and regression. The output is a class membership for classification. The class with the majority of votes from the nearest k neighbors is selected.\n",
        "   - **Number of Splits:** This could refer to cross-validation splits (e.g., k-fold cross-validation) or the data splitting strategy.\n",
        "   - **Split Size:** The size of the training and test sets, which impacts model performance and generalization.\n",
        "\n",
        "### 2. **Experimental Setup:**\n",
        "   - **Dataset:** Choose a dataset to work with (e.g., Iris dataset, digits, etc.).\n",
        "   - **Splitting the Data:** Use different split sizes (e.g., 70-30, 80-20, or k-fold cross-validation) to evaluate how varying the training and test set sizes affect the accuracy.\n",
        "   - **Classification Algorithms:**\n",
        "     - **1-NN:** The model predicts the class of a new sample based on the closest single neighbor.\n",
        "     - **3-NN:** The model predicts based on the majority vote among the three nearest neighbors.\n",
        "\n",
        "### 3. **Steps to Implement:**\n",
        "   1. **Load the Dataset:** Use a dataset from scikit-learn or load your own.\n",
        "   2. **Implement the Classifiers:**\n",
        "      - Use scikit-learn's `KNeighborsClassifier` with `n_neighbors=1` and `n_neighbors=3`.\n",
        "   3. **Evaluate Accuracy with Different Splits:**\n",
        "      - Perform different data splits (e.g., 70% training / 30% testing, 80% training / 20% testing).\n",
        "      - Alternatively, use k-fold cross-validation to get a more robust estimate of accuracy.\n",
        "   4. **Record the Results:**\n",
        "      - Track the accuracy of both 1-NN and 3-NN classifiers for each split or fold.\n",
        "   5. **Compare Results:** Analyze how the accuracy of 1-NN and 3-NN changes with different split sizes.\n",
        "\n",
        "### 4. **Analysis:**\n",
        "   - **Effect of Number of Splits:**\n",
        "     - As the number of splits in cross-validation increases, the model might get more robust estimates of accuracy.\n",
        "     - Smaller training sets might lead to overfitting, where 1-NN could perform better due to its simplicity, but it might also suffer from high variance.\n",
        "   - **Comparison of 1-NN vs. 3-NN:**\n",
        "     - 1-NN is more sensitive to noise because it relies on a single nearest neighbor.\n",
        "     - 3-NN is generally more stable as it takes the majority vote among the three closest neighbors, leading to potentially better generalization.\n",
        "\n",
        "### 5. **Conclusions:**\n",
        "   - Compare the results and draw conclusions based on the data. For example, you might observe that 3-NN generally has better accuracy due to its robustness against noise, especially as the training set size decreases.\n",
        "\n",
        "### Example Code Snippet (Python with scikit-learn):\n",
        "```python\n",
        "from sklearn.datasets import load_iris\n",
        "from sklearn.model_selection import train_test_split, cross_val_score\n",
        "from sklearn.neighbors import KNeighborsClassifier\n",
        "import numpy as np\n",
        "\n",
        "# Load dataset\n",
        "data = load_iris()\n",
        "X, y = data.data, data.target\n",
        "\n",
        "# Define classifiers\n",
        "knn_1 = KNeighborsClassifier(n_neighbors=1)\n",
        "knn_3 = KNeighborsClassifier(n_neighbors=3)\n",
        "\n",
        "# Split the data and evaluate\n",
        "split_sizes = [0.7, 0.8, 0.9]\n",
        "results = {}\n",
        "\n",
        "for split_size in split_sizes:\n",
        "    X_train, X_test, y_train, y_test = train_test_split(X, y, test_size=1-split_size, random_state=42)\n",
        "    \n",
        "    knn_1.fit(X_train, y_train)\n",
        "    knn_3.fit(X_train, y_train)\n",
        "    \n",
        "    acc_1nn = knn_1.score(X_test, y_test)\n",
        "    acc_3nn = knn_3.score(X_test, y_test)\n",
        "    \n",
        "    results[f'Train/Test Split: {split_size}'] = {\n",
        "        '1-NN Accuracy': acc_1nn,\n",
        "        '3-NN Accuracy': acc_3nn\n",
        "    }\n",
        "\n",
        "# Evaluate using cross-validation\n",
        "cv_scores_1nn = cross_val_score(knn_1, X, y, cv=5)\n",
        "cv_scores_3nn = cross_val_score(knn_3, X, y, cv=5)\n",
        "\n",
        "results['Cross-validation (5-fold)'] = {\n",
        "    '1-NN CV Accuracy': np.mean(cv_scores_1nn),\n",
        "    '3-NN CV Accuracy': np.mean(cv_scores_3nn)\n",
        "}\n",
        "\n",
        "print(results)\n",
        "```\n",
        "\n",
        "This code will give you a comparison between 1-NN and 3-NN with different training/testing splits and cross-validation.\n",
        "\n",
        "### Expected Outcome:\n",
        "- You might observe that the 3-NN classifier generally performs better than the 1-NN, especially when the training set size is small, as it is less prone to noise.\n",
        "- As the number of splits in cross-validation increases, you might notice more consistent accuracy results for both classifiers.\n",
        "\n",
        "This approach should help you understand how the accuracy of these classifiers changes with different splits and how they compare to each other."
      ]
    }
  ],
  "metadata": {
    "colab": {
      "provenance": [],
      "include_colab_link": true
    },
    "kernelspec": {
      "display_name": "Python 3",
      "name": "python3"
    },
    "language_info": {
      "codemirror_mode": {
        "name": "ipython",
        "version": 3
      },
      "file_extension": ".py",
      "mimetype": "text/x-python",
      "name": "python",
      "nbconvert_exporter": "python",
      "pygments_lexer": "ipython3",
      "version": "3.10.10"
    }
  },
  "nbformat": 4,
  "nbformat_minor": 0
}